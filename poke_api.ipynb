{
  "cells": [
    {
      "cell_type": "markdown",
      "metadata": {},
      "source": [
        "# Fetch and Save Pokémon Abilities\n",
        "This notebook fetches Pokémon abilities from the PokéAPI and saves them into CSV files. The abilities are fetched in batches, and the process stops if any fetch operation fails. Only English language effect entries are saved."
      ]
    },
    {
      "cell_type": "code",
      "execution_count": 1,
      "metadata": {},
      "outputs": [],
      "source": [
        "import requests\n",
        "import csv"
      ]
    },
    {
      "cell_type": "markdown",
      "metadata": {},
      "source": [
        "## Function to Fetch and Save Pokémon Abilities"
      ]
    },
    {
      "cell_type": "code",
      "execution_count": 2,
      "metadata": {},
      "outputs": [],
      "source": [
        "def fetch_and_save_pokemon_abilities(start_id, end_id, filename):\n",
        "    abilities = []  # List to store fetched abilities\n",
        "    for ability_id in range(start_id, end_id + 1):\n",
        "        url = f\"https://pokeapi.co/api/v2/ability/{ability_id}\"  # Construct API URL\n",
        "        response = requests.get(url)  # Fetch ability data from API\n",
        "        if response.status_code == 200:\n",
        "            abilities.append(response.json())  # Append JSON response to abilities list\n",
        "        else:\n",
        "            print(f\"Failed to fetch ability with ID {ability_id}, stopping.\")\n",
        "            break  # Stop the process if any fetch fails\n",
        "\n",
        "    with open(filename, 'w', newline='') as file:\n",
        "        writer = csv.writer(file)\n",
        "        writer.writerow([\"id\", \"name\", \"effect\", \"short_effect\"])  # Write CSV header\n",
        "        \n",
        "        for ability in abilities:\n",
        "            for effect_entry in ability.get('effect_entries', []):\n",
        "                if effect_entry.get('language', {}).get('name') == 'en':  # Filter for English language\n",
        "                    writer.writerow([\n",
        "                        ability.get('id'),\n",
        "                        ability.get('name'),\n",
        "                        effect_entry.get('effect'),\n",
        "                        effect_entry.get('short_effect')\n",
        "                    ])  # Write ability data to CSV"
      ]
    },
    {
      "cell_type": "markdown",
      "metadata": {},
      "source": [
        "## Main Execution Function"
      ]
    },
    {
      "cell_type": "code",
      "execution_count": 3,
      "metadata": {
        "scrolled": true
      },
      "outputs": [],
      "source": [
        "def main():\n",
        "    batch_size = 100  # Number of abilities to fetch per batch\n",
        "    total_abilities = 999  # Total number of abilities to fetch\n",
        "    for start_id in range(1, total_abilities + 1, batch_size):\n",
        "        end_id = min(start_id + batch_size - 1, total_abilities)  # Calculate end ID for the current batch\n",
        "        filename = f\"pokemon_abilities_{start_id}_to_{end_id}.csv\"  # Construct filename\n",
        "        fetch_and_save_pokemon_abilities(start_id, end_id, filename)  # Fetch and save abilities\n",
        "        print(f\"Saved abilities {start_id} to {end_id} in {filename}\")\n",
        "\n",
        "        # Check if abilities were fetched successfully, if not stop further execution\n",
        "        if len(abilities) < (end_id - start_id + 1):\n",
        "            print(\"Stopped due to a failed fetch.\")\n",
        "            break  # Stop further execution if any batch fails to fetch completely\n",
        "\n",
        "if __name__ == \"__main__\":\n",
        "    main()  # Run the main function"
      ]
    }
  ],
  "metadata": {
    "kernelspec": {
      "display_name": "Python 3",
      "language": "python",
      "name": "python3"
    },
    "language_info": {
      "codemirror_mode": {
        "name": "ipython",
        "version": 3
      },
      "file_extension": ".py",
      "mimetype": "text/x-python",
      "name": "python",
      "nbconvert_exporter": "python",
      "pygments_lexer": "ipython3",
      "version": "3.8.5"
    }
  },
  "nbformat": 4,
  "nbformat_minor": 4
}
